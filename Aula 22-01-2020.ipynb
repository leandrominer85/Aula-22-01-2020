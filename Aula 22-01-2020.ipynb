{
 "cells": [
  {
   "cell_type": "code",
   "execution_count": 3,
   "metadata": {},
   "outputs": [],
   "source": [
    "# Leitura do arquivo vindo do squad 2\n",
    "\n",
    "import pandas as pd\n",
    "import requests\n",
    "\n",
    "def leitura():\n",
    "    csv = requests.get(\"https://gist.githubusercontent.com/netj/8836201/raw/6f9306ad21398ea43cba4f7d537619d0e07d5ae3/iris.csv\").content\n",
    "    f = open('data.csv', 'wb')\n",
    "    f.write(csv)\n",
    "    f.close()\n",
    "    df = pd.read_csv('data.csv')\n",
    "    return df"
   ]
  },
  {
   "cell_type": "code",
   "execution_count": 2,
   "metadata": {
    "scrolled": true
   },
   "outputs": [
    {
     "name": "stdout",
     "output_type": "stream",
     "text": [
      " * Serving Flask app \"__main__\" (lazy loading)\n",
      " * Environment: production\n",
      "   WARNING: Do not use the development server in a production environment.\n",
      "   Use a production WSGI server instead.\n",
      " * Debug mode: off\n"
     ]
    },
    {
     "name": "stderr",
     "output_type": "stream",
     "text": [
      " * Running on http://127.0.0.1:5000/ (Press CTRL+C to quit)\n",
      "[2020-01-24 21:42:04,411] ERROR in app: Exception on /scatter [POST]\n",
      "Traceback (most recent call last):\n",
      "  File \"C:\\Users\\Denis\\Anaconda3\\lib\\site-packages\\flask\\app.py\", line 2292, in wsgi_app\n",
      "    response = self.full_dispatch_request()\n",
      "  File \"C:\\Users\\Denis\\Anaconda3\\lib\\site-packages\\flask\\app.py\", line 1815, in full_dispatch_request\n",
      "    rv = self.handle_user_exception(e)\n",
      "  File \"C:\\Users\\Denis\\Anaconda3\\lib\\site-packages\\flask\\app.py\", line 1718, in handle_user_exception\n",
      "    reraise(exc_type, exc_value, tb)\n",
      "  File \"C:\\Users\\Denis\\Anaconda3\\lib\\site-packages\\flask\\_compat.py\", line 35, in reraise\n",
      "    raise value\n",
      "  File \"C:\\Users\\Denis\\Anaconda3\\lib\\site-packages\\flask\\app.py\", line 1813, in full_dispatch_request\n",
      "    rv = self.dispatch_request()\n",
      "  File \"C:\\Users\\Denis\\Anaconda3\\lib\\site-packages\\flask\\app.py\", line 1799, in dispatch_request\n",
      "    return self.view_functions[rule.endpoint](**req.view_args)\n",
      "  File \"<ipython-input-2-9512c731737a>\", line 13, in scatter\n",
      "    df = pd.read_csv('data.csv')\n",
      "  File \"C:\\Users\\Denis\\Anaconda3\\lib\\site-packages\\pandas\\io\\parsers.py\", line 702, in parser_f\n",
      "    return _read(filepath_or_buffer, kwds)\n",
      "  File \"C:\\Users\\Denis\\Anaconda3\\lib\\site-packages\\pandas\\io\\parsers.py\", line 429, in _read\n",
      "    parser = TextFileReader(filepath_or_buffer, **kwds)\n",
      "  File \"C:\\Users\\Denis\\Anaconda3\\lib\\site-packages\\pandas\\io\\parsers.py\", line 895, in __init__\n",
      "    self._make_engine(self.engine)\n",
      "  File \"C:\\Users\\Denis\\Anaconda3\\lib\\site-packages\\pandas\\io\\parsers.py\", line 1122, in _make_engine\n",
      "    self._engine = CParserWrapper(self.f, **self.options)\n",
      "  File \"C:\\Users\\Denis\\Anaconda3\\lib\\site-packages\\pandas\\io\\parsers.py\", line 1853, in __init__\n",
      "    self._reader = parsers.TextReader(src, **kwds)\n",
      "  File \"pandas/_libs/parsers.pyx\", line 545, in pandas._libs.parsers.TextReader.__cinit__\n",
      "pandas.errors.EmptyDataError: No columns to parse from file\n",
      "127.0.0.1 - - [24/Jan/2020 21:42:04] \"\u001b[1m\u001b[35mPOST /scatter HTTP/1.1\u001b[0m\" 500 -\n"
     ]
    }
   ],
   "source": [
    "#Criar endpoint de post que retorna o gráfico de dispersão e tem como input um json com as coordenadas a serem \n",
    "#plotadas. Por exemplo: {“coords”: [“sepal.length”, “petal.length”]\n",
    "\n",
    "from flask import Flask, request, current_app, jsonify\n",
    "import matplotlib.pyplot as plt\n",
    "\n",
    "app = Flask(__name__)\n",
    "\n",
    "@app.route(\"/scatter\", methods=['POST'])\n",
    "\n",
    "def scatter():\n",
    "    df = leitura()\n",
    "\n",
    "    print(\"Leitura executada com sucesso!\")\n",
    "    parametros = request.json\n",
    "    \n",
    "    lista = ['sepal.length', 'sepal.width', 'petal.length', 'petal.width']\n",
    "    \n",
    "    if parametros[\"1\"] in lista and parametros[\"2\"] in lista:\n",
    "      \n",
    "        print(parametros[\"1\"])\n",
    "        print(parametros[\"2\"])\n",
    "       \n",
    "        plt.scatter(df[parametros[\"1\"]] , df[parametros[\"2\"]] )\n",
    "        plt.grid( linewidth= 1, linestyle=\"--\")\n",
    "        plt.show()\n",
    "        return \"grafico\"  ,200\n",
    "    \n",
    "    else:\n",
    "        return \"cago\", 400\n",
    "    \n",
    "app.run()"
   ]
  },
  {
   "cell_type": "code",
   "execution_count": 4,
   "metadata": {},
   "outputs": [
    {
     "name": "stdout",
     "output_type": "stream",
     "text": [
      " * Serving Flask app \"__main__\" (lazy loading)\n",
      " * Environment: production\n",
      "   WARNING: Do not use the development server in a production environment.\n",
      "   Use a production WSGI server instead.\n",
      " * Debug mode: off\n"
     ]
    },
    {
     "name": "stderr",
     "output_type": "stream",
     "text": [
      " * Running on http://127.0.0.1:5000/ (Press CTRL+C to quit)\n"
     ]
    },
    {
     "name": "stdout",
     "output_type": "stream",
     "text": [
      "Leitura executada com sucesso!\n"
     ]
    },
    {
     "data": {
      "image/png": "[encoded data removed]",
      "text/plain": [
       "<Figure size 432x288 with 1 Axes>"
      ]
     },
     "metadata": {
      "needs_background": "light"
     },
     "output_type": "display_data"
    },
    {
     "name": "stderr",
     "output_type": "stream",
     "text": [
      "127.0.0.1 - - [24/Jan/2020 21:10:26] \"\u001b[37mPOST /hist HTTP/1.1\u001b[0m\" 200 -\n"
     ]
    }
   ],
   "source": [
    "#- Criar endpoint de get que retorna o histograma\n",
    "\n",
    "from flask import Flask, request, current_app, jsonify\n",
    "import matplotlib.pyplot as plt\n",
    "\n",
    "\n",
    "\n",
    "app = Flask(__name__)\n",
    "\n",
    "@app.route(\"/hist\", methods=['POST'])\n",
    "\n",
    "def hist():\n",
    "    df = leitura()\n",
    "    print(\"Leitura executada com sucesso!\")\n",
    "    \n",
    "    df.variety.value_counts().plot(kind='bar')\n",
    "    \n",
    "    plt.show()\n",
    "    \n",
    "    return \"grafico\"  ,200\n",
    "\n",
    "app.run()"
   ]
  },
  {
   "cell_type": "code",
   "execution_count": null,
   "metadata": {},
   "outputs": [],
   "source": []
  }
 ],
 "metadata": {
  "kernelspec": {
   "display_name": "Python 3",
   "language": "python",
   "name": "python3"
  },
  "language_info": {
   "codemirror_mode": {
    "name": "ipython",
    "version": 3
   },
   "file_extension": ".py",
   "mimetype": "text/x-python",
   "name": "python",
   "nbconvert_exporter": "python",
   "pygments_lexer": "ipython3",
   "version": "3.7.3"
  }
 },
 "nbformat": 4,
 "nbformat_minor": 2
}

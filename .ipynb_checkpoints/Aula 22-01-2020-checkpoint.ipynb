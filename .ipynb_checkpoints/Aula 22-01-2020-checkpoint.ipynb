{
 "cells": [
  {
   "cell_type": "code",
   "execution_count": 1,
   "metadata": {},
   "outputs": [],
   "source": [
    "# Leitura do arquivo vindo do squad 2\n",
    "\n",
    "import pandas as pd\n",
    "import requests\n",
    "\n",
    "def leitura():\n",
    "    csv = requests.get(\"https://gist.githubusercontent.com/netj/8836201/raw/6f9306ad21398ea43cba4f7d537619d0e07d5ae3/iris.csv\").content\n",
    "    f = open('data.csv', 'wb')\n",
    "    f.write(csv)\n",
    "    f.close()\n",
    "    df = pd.read_csv('data.csv')\n",
    "    return df"
   ]
  },
  {
   "cell_type": "code",
   "execution_count": 4,
   "metadata": {},
   "outputs": [
    {
     "name": "stdout",
     "output_type": "stream",
     "text": [
      " * Serving Flask app \"__main__\" (lazy loading)\n",
      " * Environment: production\n",
      "   WARNING: Do not use the development server in a production environment.\n",
      "   Use a production WSGI server instead.\n",
      " * Debug mode: off\n"
     ]
    },
    {
     "name": "stderr",
     "output_type": "stream",
     "text": [
      " * Running on http://127.0.0.1:5000/ (Press CTRL+C to quit)\n",
      "127.0.0.1 - - [23/Jan/2020 14:36:24] code 400, message Bad request syntax ('POST /scatter/%7B%20%22parametros%22:%20[\\x1csepal.length\\x1d,%20\\x1cpetal.length\\x1d]%7D HTTP/1.1')\n",
      "127.0.0.1 - - [23/Jan/2020 14:36:24] \"POST /scatter/%7B%20%22parametros%22:%20[\u001c",
      "sepal.length\u001d",
      ",%20\u001c",
      "petal.length\u001d",
      "]%7D HTTP/1.1\" HTTPStatus.BAD_REQUEST -\n"
     ]
    }
   ],
   "source": [
    "#Criar endpoint de post que retorna o gráfico de dispersão e tem como input um json com as coordenadas a serem \n",
    "#plotadas. Por exemplo: {“coords”: [“sepal.length”, “petal.length”]\n",
    "\n",
    "from flask import Flask, request, current_app, jsonify\n",
    "import matplotlib.pyplot as plt\n",
    "\n",
    "app = Flask(__name__)\n",
    "\n",
    "@app.route(\"/scatter\", methods=['POST'])\n",
    "\n",
    "def scatter():\n",
    "    df = leitura()\n",
    "    print(\"Leitura executada com sucesso!\")\n",
    "    parametros = request.json\n",
    "    print(parametros[1])\n",
    "    print(parametros[0])\n",
    "    plt.scatter(df[\"parametros[1]\"] , df[\"parametros[0]\"] )\n",
    "    plt.grid( linewidth= 1, linestyle=\"--\")\n",
    "    return plt.show()\n",
    "\n",
    "app.run()"
   ]
  },
  {
   "cell_type": "code",
   "execution_count": null,
   "metadata": {},
   "outputs": [],
   "source": [
    "#- Criar endpoint de get que retorna o histograma"
   ]
  }
 ],
 "metadata": {
  "kernelspec": {
   "display_name": "Python 3",
   "language": "python",
   "name": "python3"
  },
  "language_info": {
   "codemirror_mode": {
    "name": "ipython",
    "version": 3
   },
   "file_extension": ".py",
   "mimetype": "text/x-python",
   "name": "python",
   "nbconvert_exporter": "python",
   "pygments_lexer": "ipython3",
   "version": "3.7.1"
  }
 },
 "nbformat": 4,
 "nbformat_minor": 2
}
